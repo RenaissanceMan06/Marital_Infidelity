{
 "cells": [
  {
   "cell_type": "markdown",
   "metadata": {
    "pycharm": {
     "name": "#%% md\n"
    }
   },
   "source": [
    "#### Libraries"
   ]
  },
  {
   "cell_type": "code",
   "execution_count": 59,
   "metadata": {
    "pycharm": {
     "name": "#%%\n"
    }
   },
   "outputs": [],
   "source": [
    "from sklearn.model_selection import KFold, cross_val_score\n",
    "from sklearn.metrics import recall_score, precision_score\n",
    "from sklearn.model_selection import train_test_split\n",
    "from imblearn.over_sampling import RandomOverSampler\n",
    "from sklearn.linear_model import LogisticRegression\n",
    "from sklearn.preprocessing import StandardScaler\n",
    "from sklearn.pipeline import make_pipeline\n",
    "import statsmodels.api as sm\n",
    "from sklearn import metrics\n",
    "import matplotlib.pyplot as plt\n",
    "plt.style.use('ggplot')\n",
    "import seaborn as sns\n",
    "import missingno as msno\n",
    "import pandas as pd\n",
    "import numpy as np"
   ]
  },
  {
   "cell_type": "markdown",
   "metadata": {
    "pycharm": {
     "name": "#%% md\n"
    }
   },
   "source": [
    "#### DataFrame"
   ]
  },
  {
   "cell_type": "code",
   "execution_count": 60,
   "metadata": {
    "pycharm": {
     "name": "#%%\n"
    }
   },
   "outputs": [],
   "source": [
    "df = pd.read_csv('Affairs.csv')"
   ]
  },
  {
   "cell_type": "code",
   "execution_count": 61,
   "metadata": {
    "pycharm": {
     "name": "#%%\n"
    }
   },
   "outputs": [
    {
     "name": "stdout",
     "output_type": "stream",
     "text": [
      "     Unnamed: 0  affairs  gender   age  yearsmarried children  religiousness  \\\n",
      "0             4        0    male  37.0         10.00       no              3   \n",
      "1             5        0  female  27.0          4.00       no              4   \n",
      "2            11        0  female  32.0         15.00      yes              1   \n",
      "3            16        0    male  57.0         15.00      yes              5   \n",
      "4            23        0    male  22.0          0.75       no              2   \n",
      "..          ...      ...     ...   ...           ...      ...            ...   \n",
      "596        1938        1    male  22.0          1.50      yes              1   \n",
      "597        1941        7  female  32.0         10.00      yes              2   \n",
      "598        1954        2    male  32.0         10.00      yes              2   \n",
      "599        1959        2    male  22.0          7.00      yes              3   \n",
      "600        9010        1  female  32.0         15.00      yes              3   \n",
      "\n",
      "     education  occupation  rating  \n",
      "0           18           7       4  \n",
      "1           14           6       4  \n",
      "2           12           1       4  \n",
      "3           18           6       5  \n",
      "4           17           6       3  \n",
      "..         ...         ...     ...  \n",
      "596         12           2       5  \n",
      "597         18           5       4  \n",
      "598         17           6       5  \n",
      "599         18           6       2  \n",
      "600         14           1       5  \n",
      "\n",
      "[601 rows x 10 columns]\n"
     ]
    }
   ],
   "source": [
    "print(df)"
   ]
  },
  {
   "cell_type": "markdown",
   "metadata": {
    "pycharm": {
     "name": "#%% md\n"
    }
   },
   "source": [
    "#### Columns"
   ]
  },
  {
   "cell_type": "code",
   "execution_count": 62,
   "metadata": {
    "pycharm": {
     "name": "#%%\n"
    }
   },
   "outputs": [
    {
     "name": "stdout",
     "output_type": "stream",
     "text": [
      "Index(['Unnamed: 0', 'affairs', 'gender', 'age', 'yearsmarried', 'children',\n",
      "       'religiousness', 'education', 'occupation', 'rating'],\n",
      "      dtype='object')\n"
     ]
    }
   ],
   "source": [
    "print(df.columns)"
   ]
  },
  {
   "cell_type": "markdown",
   "metadata": {
    "pycharm": {
     "name": "#%% md\n"
    }
   },
   "source": [
    "#### Summary"
   ]
  },
  {
   "cell_type": "code",
   "execution_count": 63,
   "metadata": {
    "pycharm": {
     "name": "#%%\n"
    }
   },
   "outputs": [
    {
     "name": "stdout",
     "output_type": "stream",
     "text": [
      "          affairs         age  yearsmarried  religiousness   education  \\\n",
      "count  601.000000  601.000000    601.000000     601.000000  601.000000   \n",
      "mean     1.455907   32.487521      8.177696       3.116473   16.166389   \n",
      "std      3.298758    9.288762      5.571303       1.167509    2.402555   \n",
      "min      0.000000   17.500000      0.125000       1.000000    9.000000   \n",
      "25%      0.000000   27.000000      4.000000       2.000000   14.000000   \n",
      "50%      0.000000   32.000000      7.000000       3.000000   16.000000   \n",
      "75%      0.000000   37.000000     15.000000       4.000000   18.000000   \n",
      "max     12.000000   57.000000     15.000000       5.000000   20.000000   \n",
      "\n",
      "       occupation      rating  \n",
      "count  601.000000  601.000000  \n",
      "mean     4.194676    3.931780  \n",
      "std      1.819443    1.103179  \n",
      "min      1.000000    1.000000  \n",
      "25%      3.000000    3.000000  \n",
      "50%      5.000000    4.000000  \n",
      "75%      6.000000    5.000000  \n",
      "max      7.000000    5.000000  \n"
     ]
    }
   ],
   "source": [
    "print(df.drop(['Unnamed: 0'], axis=1).describe())"
   ]
  },
  {
   "cell_type": "markdown",
   "metadata": {},
   "source": [
    "#### Missing Values"
   ]
  },
  {
   "cell_type": "code",
   "execution_count": 64,
   "metadata": {
    "pycharm": {
     "name": "#%%\n"
    }
   },
   "outputs": [
    {
     "data": {
      "text/plain": "<Figure size 1800x720 with 2 Axes>",
      "image/png": "[encoded data removed]"
     },
     "metadata": {},
     "output_type": "display_data"
    }
   ],
   "source": [
    "msno.matrix(df)\n",
    "plt.show()"
   ]
  },
  {
   "cell_type": "code",
   "execution_count": 65,
   "metadata": {
    "pycharm": {
     "name": "#%%\n"
    }
   },
   "outputs": [
    {
     "data": {
      "text/plain": "<Figure size 864x720 with 2 Axes>",
      "image/png": "[encoded data removed]"
     },
     "metadata": {},
     "output_type": "display_data"
    }
   ],
   "source": [
    "df_sex = df.drop(['gender', 'children', 'Unnamed: 0'], axis=1)\n",
    "corrMatrix = df_sex.corr()\n",
    "plt.figure(figsize=(12,10))\n",
    "sns.heatmap(corrMatrix, annot=True, cmap='YlGnBu')\n",
    "plt.title('Infidelity Correlation Heat Matrix', fontsize=15, color = 'black', fontweight='bold')\n",
    "plt.show()"
   ]
  },
  {
   "cell_type": "markdown",
   "metadata": {},
   "source": [
    "#### Affair by Sex"
   ]
  },
  {
   "cell_type": "code",
   "execution_count": 66,
   "metadata": {
    "pycharm": {
     "name": "#%%\n"
    }
   },
   "outputs": [
    {
     "data": {
      "text/plain": "<Figure size 576x432 with 1 Axes>",
      "image/png": "[encoded data removed]"
     },
     "metadata": {},
     "output_type": "display_data"
    }
   ],
   "source": [
    "plt.figure(figsize=(8,6))\n",
    "sns.barplot(x='gender', y='affairs', palette='ch:.25', data=df)\n",
    "plt.xlabel('Gender', fontsize=15, fontweight='bold')\n",
    "plt.show()"
   ]
  },
  {
   "cell_type": "code",
   "execution_count": 67,
   "metadata": {
    "pycharm": {
     "name": "#%%\n"
    }
   },
   "outputs": [],
   "source": [
    "df1 = df.drop(['Unnamed: 0', 'age', 'yearsmarried', 'children',\n",
    "       'religiousness', 'education', 'occupation', 'rating'], axis=1)\n",
    "\n",
    "\n",
    "sexes = df1.groupby('gender')\n",
    "females = sexes.get_group('female')\n",
    "males = sexes.get_group('male')"
   ]
  },
  {
   "cell_type": "markdown",
   "metadata": {
    "pycharm": {
     "name": "#%% md\n"
    }
   },
   "source": [
    "#### Male Affair Frequency"
   ]
  },
  {
   "cell_type": "code",
   "execution_count": 68,
   "metadata": {
    "pycharm": {
     "name": "#%%\n"
    }
   },
   "outputs": [
    {
     "name": "stdout",
     "output_type": "stream",
     "text": [
      "0     208\n",
      "7      20\n",
      "1      19\n",
      "12     18\n",
      "3      11\n",
      "2      10\n",
      "Name: affairs, dtype: int64\n",
      "\n",
      "\n",
      "          affairs\n",
      "count  286.000000\n",
      "mean     1.496503\n",
      "std      3.292467\n",
      "min      0.000000\n",
      "25%      0.000000\n",
      "50%      0.000000\n",
      "75%      1.000000\n",
      "max     12.000000\n"
     ]
    }
   ],
   "source": [
    "print(males['affairs'].value_counts().sort_values(ascending=False))\n",
    "print('\\n')\n",
    "print(males.describe())"
   ]
  },
  {
   "cell_type": "markdown",
   "metadata": {
    "pycharm": {
     "name": "#%% md\n"
    }
   },
   "source": [
    "#### Female Affair Frequency"
   ]
  },
  {
   "cell_type": "code",
   "execution_count": 69,
   "metadata": {
    "pycharm": {
     "name": "#%%\n"
    }
   },
   "outputs": [
    {
     "name": "stdout",
     "output_type": "stream",
     "text": [
      "0     243\n",
      "7      22\n",
      "12     20\n",
      "1      15\n",
      "3       8\n",
      "2       7\n",
      "Name: affairs, dtype: int64\n",
      "\n",
      "\n",
      "          affairs\n",
      "count  315.000000\n",
      "mean     1.419048\n",
      "std      3.309264\n",
      "min      0.000000\n",
      "25%      0.000000\n",
      "50%      0.000000\n",
      "75%      0.000000\n",
      "max     12.000000\n"
     ]
    }
   ],
   "source": [
    "print(females['affairs'].value_counts().sort_values(ascending=False))\n",
    "print('\\n')\n",
    "print(females.describe())"
   ]
  },
  {
   "cell_type": "markdown",
   "metadata": {
    "pycharm": {
     "name": "#%% md\n"
    }
   },
   "source": [
    "#### Plotting Affair Frequency by Sex"
   ]
  },
  {
   "cell_type": "code",
   "execution_count": null,
   "metadata": {
    "pycharm": {
     "name": "#%%\n",
     "is_executing": true
    }
   },
   "outputs": [],
   "source": [
    "\n",
    "female_affair_freq=['0 = None, 7 = 4-10 Times, 12 = Monthly, Weekly, or Daily, 1 = Once, 3 = 3 Times, 2 = Twice']\n",
    "\n",
    "male_affair_freq=['0 = None, 7 = 4-10 Times, 1 = Once, 12 = Monthly, Weekly, or Daily, 3 = 3 Times, 2 = Twice']\n",
    "\n",
    "\n",
    "plt.figure(figsize=(12,12))\n",
    "plt.subplot(2,1,1)\n",
    "\n",
    "a = pd.Series(['0', '7', '12', '1', '3', '2'])\n",
    "b = [243,22,20,15,8,7]\n",
    "aa = a.astype('category')\n",
    "\n",
    "plt.bar(aa, b, color = 'plum', fill='black', alpha=0.7, label=female_affair_freq)\n",
    "plt.title('Female Affair Frequency', fontweight='bold')\n",
    "plt.legend(fontsize='medium', title='Female Affair Frequency')\n",
    "for h, j in enumerate(b):\n",
    "    plt.text(aa[h], j, str(j))\n",
    "\n",
    "plt.subplot(2,1,2)\n",
    "c = pd.Series(['0','7','1','12','3','2'])\n",
    "d = [208,20,19,18,11,10]\n",
    "cc = c.astype('category')\n",
    "\n",
    "plt.bar(cc, d, color='wheat', fill='black', alpha=0.7, label=male_affair_freq)\n",
    "plt.xlabel('Male Affair Frequency', fontsize= 14, fontweight='bold')\n",
    "plt.legend(fontsize='medium',title='Male Affair Frequency')\n",
    "for i, v in enumerate(d):\n",
    "    plt.text(cc[i], v, str(v))\n",
    "plt.show()"
   ]
  },
  {
   "cell_type": "markdown",
   "metadata": {},
   "source": [
    "#### Predictors and Target"
   ]
  },
  {
   "cell_type": "code",
   "execution_count": null,
   "metadata": {
    "pycharm": {
     "name": "#%%\n",
     "is_executing": true
    }
   },
   "outputs": [],
   "source": [
    "y = df['affairs']\n",
    "X = df[['yearsmarried','religiousness', 'rating']]"
   ]
  },
  {
   "cell_type": "markdown",
   "source": [
    "### Upsampling and Split Validation"
   ],
   "metadata": {
    "collapsed": false,
    "pycharm": {
     "name": "#%% md\n"
    }
   }
  },
  {
   "cell_type": "code",
   "execution_count": null,
   "outputs": [],
   "source": [
    "ros = RandomOverSampler(random_state=1)\n",
    "x_ros, y_ros = ros.fit_resample(X, y)\n",
    "\n",
    "x_train, x_test, y_train, y_test = train_test_split(x_ros,y_ros,test_size=0.3, random_state=10, shuffle=True)"
   ],
   "metadata": {
    "collapsed": false,
    "pycharm": {
     "name": "#%%\n",
     "is_executing": true
    }
   }
  },
  {
   "cell_type": "markdown",
   "metadata": {},
   "source": [
    "## Model\n",
    "#### Multinomial Logistic Regression with k-fold Cross Validation"
   ]
  },
  {
   "cell_type": "code",
   "execution_count": null,
   "metadata": {
    "pycharm": {
     "name": "#%%\n",
     "is_executing": true
    }
   },
   "outputs": [],
   "source": [
    "standardizer = StandardScaler()\n",
    "logit = LogisticRegression(penalty='l2', solver='newton-cg', multi_class = 'multinomial',n_jobs=-1)\n",
    "pipeline = make_pipeline(standardizer, logit)\n",
    "kf = KFold(n_splits=10, shuffle=True, random_state=42)\n",
    "cv_results = cross_val_score(pipeline,\n",
    "                             x_ros,\n",
    "                             y_ros,\n",
    "                             cv=kf,\n",
    "                             scoring='accuracy',\n",
    "                             n_jobs=-1)\n",
    "print('KFold Multinomial Logistic Model Accuracy: ', cv_results.mean()*100, '%', end=' ')\n",
    "print('std: ', cv_results.std()*100, '+/-')"
   ]
  },
  {
   "cell_type": "markdown",
   "metadata": {},
   "source": [
    "#### MNLogit Regression Results"
   ]
  },
  {
   "cell_type": "code",
   "execution_count": null,
   "metadata": {
    "pycharm": {
     "name": "#%%\n",
     "is_executing": true
    }
   },
   "outputs": [],
   "source": [
    "log_model = sm.MNLogit(y_ros, x_ros).fit()\n",
    "\n",
    "print(log_model.summary())"
   ]
  },
  {
   "cell_type": "markdown",
   "source": [
    "### Split Validation Accuracy"
   ],
   "metadata": {
    "collapsed": false,
    "pycharm": {
     "name": "#%% md\n"
    }
   }
  },
  {
   "cell_type": "code",
   "execution_count": null,
   "outputs": [],
   "source": [
    "logit.fit(x_train,y_train)\n",
    "print('\\n')\n",
    "print('Accuracy with Split Validation: ', logit.score(x_test,y_test)*100, '%')"
   ],
   "metadata": {
    "collapsed": false,
    "pycharm": {
     "name": "#%%\n",
     "is_executing": true
    }
   }
  },
  {
   "cell_type": "markdown",
   "source": [
    "## Precision and Recall Score"
   ],
   "metadata": {
    "collapsed": false,
    "pycharm": {
     "name": "#%% md\n"
    }
   }
  },
  {
   "cell_type": "code",
   "execution_count": null,
   "outputs": [],
   "source": [
    "y_predict = logit.predict(x_test)\n",
    "print('Precision Score: ', precision_score(y_test, y_predict, average='micro')*100, '%')\n",
    "print('Recall Score: ', recall_score(y_test, y_predict, average='micro')*100, '%')"
   ],
   "metadata": {
    "collapsed": false,
    "pycharm": {
     "name": "#%%\n",
     "is_executing": true
    }
   }
  },
  {
   "cell_type": "markdown",
   "metadata": {
    "pycharm": {
     "name": "#%% md\n"
    }
   },
   "source": [
    "## Attributes of Prediction Model\n",
    "\n",
    "### Yearsmarried"
   ]
  },
  {
   "cell_type": "code",
   "execution_count": null,
   "metadata": {
    "pycharm": {
     "name": "#%%\n",
     "is_executing": true
    }
   },
   "outputs": [],
   "source": [
    "affair_freq=['0 = None, 1 = Once, 2 = Twice, 3 = 3 Times, 7 = 4-10 Times, '\n",
    "             '12 = Monthly, Weekly, or Daily']\n",
    "\n",
    "plt.figure(figsize=(12,10))\n",
    "sns.catplot(x='affairs', y='yearsmarried', kind='bar', palette='ch:.25', data=df)\n",
    "plt.xlabel('Affairs', fontsize=15, fontweight='bold')\n",
    "plt.ylabel('Years Married', fontsize=15, fontweight='bold')\n",
    "plt.title('Attributes of Prediction Model', fontsize=15, fontweight='bold')\n",
    "plt.legend(affair_freq, bbox_to_anchor=(0.5, -0.29),fontsize='large',loc='lower center', title='Frequency of Affairs')\n",
    "plt.show()"
   ]
  },
  {
   "cell_type": "markdown",
   "source": [
    "### Religiousness"
   ],
   "metadata": {
    "collapsed": false,
    "pycharm": {
     "name": "#%% md\n"
    }
   }
  },
  {
   "cell_type": "code",
   "execution_count": null,
   "outputs": [],
   "source": [
    "labels=['1 = Anti','2 = Not at All','3 = Slightly','4 = Somewhat','5 = Very']\n",
    "plt.figure(figsize=(12,10))\n",
    "sns.catplot(x='religiousness', y='affairs', kind='bar', palette='ch:.25', data=df)\n",
    "plt.legend(labels,fontsize='large',title='Religiousness')\n",
    "plt.tight_layout()\n",
    "plt.show()"
   ],
   "metadata": {
    "collapsed": false,
    "pycharm": {
     "name": "#%%\n",
     "is_executing": true
    }
   }
  },
  {
   "cell_type": "markdown",
   "source": [
    "#### Happiness Rating and Number of Affairs"
   ],
   "metadata": {
    "collapsed": false
   }
  },
  {
   "cell_type": "code",
   "execution_count": null,
   "outputs": [],
   "source": [
    "labels=['1 = Very Unhappy','2 = Somewhat Unhappy','3 = Average','4 = Happier than Average','5 = Very Happy']\n",
    "\n",
    "plt.figure(figsize=(12,8))\n",
    "sns.barplot(x='rating', y='affairs', data=df, palette='ch:.25')\n",
    "plt.xlabel('Rating of Marriage')\n",
    "plt.legend(labels,fontsize='large',title='Rating of Marriage')\n",
    "plt.show()"
   ],
   "metadata": {
    "collapsed": false,
    "pycharm": {
     "name": "#%%\n",
     "is_executing": true
    }
   }
  }
 ],
 "metadata": {
  "kernelspec": {
   "display_name": "Python 3",
   "language": "python",
   "name": "python3"
  },
  "language_info": {
   "codemirror_mode": {
    "name": "ipython",
    "version": 3
   },
   "file_extension": ".py",
   "mimetype": "text/x-python",
   "name": "python",
   "nbconvert_exporter": "python",
   "pygments_lexer": "ipython3",
   "version": "3.8.5"
  }
 },
 "nbformat": 4,
 "nbformat_minor": 1
}